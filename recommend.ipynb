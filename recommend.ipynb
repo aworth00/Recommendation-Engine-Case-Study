{
 "cells": [
  {
   "cell_type": "code",
   "execution_count": 96,
   "metadata": {},
   "outputs": [
    {
     "name": "stdout",
     "output_type": "stream",
     "text": [
      "Dataset ml-1m could not be found. Do you want to download it? [Y/n] Y\n",
      "Trying to download dataset from http://files.grouplens.org/datasets/movielens/ml-1m.zip...\n",
      "Done! Dataset ml-1m has been saved to /Users/alexworth/.surprise_data/ml-1m\n"
     ]
    }
   ],
   "source": [
    "import sys\n",
    "import numpy as np\n",
    "import surprise\n",
    "from surprise import AlgoBase, Dataset, evaluate, Reader, accuracy\n",
    "from surprise.prediction_algorithms.knns import KNNBasic\n",
    "import seaborn as sns\n",
    "import matplotlib.pyplot as plt\n",
    "import pandas as pd\n",
    "data = Dataset.load_builtin('ml-1m')"
   ]
  },
  {
   "cell_type": "code",
   "execution_count": 97,
   "metadata": {},
   "outputs": [],
   "source": [
    "class GlobalMean(AlgoBase):\n",
    "    def train(self, trainset):\n",
    "\n",
    "        # Here again: call base method before doing anything.\n",
    "        AlgoBase.train(self, trainset)\n",
    "\n",
    "        # Compute the average rating\n",
    "        self.the_mean = np.mean([r for (_, _, r) in self.trainset.all_ratings()])\n",
    "\n",
    "    def estimate(self, u, i):\n",
    "        #print(u,i)\n",
    "        return self.the_mean\n",
    "    \n",
    "    def topandas(self,u,i):\n",
    "        pass"
   ]
  },
  {
   "cell_type": "code",
   "execution_count": 98,
   "metadata": {},
   "outputs": [],
   "source": [
    "class MeanofMeans(AlgoBase):\n",
    "    def train(self, trainset):\n",
    "\n",
    "        # Here again: call base method before doing anything.\n",
    "        AlgoBase.train(self, trainset)\n",
    "\n",
    "        users = np.array([u for (u, _, _) in self.trainset.all_ratings()])\n",
    "        items = np.array([i for (_, i, _) in self.trainset.all_ratings()])\n",
    "        ratings = np.array([r for (_, _, r) in self.trainset.all_ratings()])\n",
    "\n",
    "        user_means,item_means = {},{}\n",
    "        for user in np.unique(users):\n",
    "            user_means[user] = ratings[users==user].mean()\n",
    "        for item in np.unique(items):\n",
    "            item_means[item] = ratings[items==item].mean()\n",
    "\n",
    "        self.global_mean = ratings.mean()    \n",
    "        self.user_means = user_means\n",
    "        self.item_means = item_means\n",
    "        \n",
    "    def estimate(self, u, i):\n",
    "        \"\"\"\n",
    "        return the mean of means estimate\n",
    "        \"\"\"\n",
    "        \n",
    "        if u not in self.user_means:\n",
    "            return(np.mean([self.global_mean,\n",
    "                            self.item_means[i]]))\n",
    "\n",
    "        if i not in self.item_means:\n",
    "            return(np.mean([self.global_mean,\n",
    "                            self.user_means[u]]))\n",
    "\n",
    "        return(np.mean([self.global_mean,\n",
    "                        self.user_means[u],\n",
    "                        self.item_means[i]]))\n",
    "    \n",
    "    def prediction(self, u, i):\n",
    "        \n",
    "        return algo.predict(u, i, r_ui=4, verbose=True)"
   ]
  },
  {
   "cell_type": "code",
   "execution_count": 99,
   "metadata": {},
   "outputs": [
    {
     "name": "stdout",
     "output_type": "stream",
     "text": [
      "\n",
      "Global Mean...\n",
      "Evaluating RMSE, MAE of algorithm GlobalMean.\n",
      "\n",
      "------------\n",
      "Fold 1\n",
      "RMSE: 1.1160\n",
      "MAE:  0.9333\n",
      "------------\n",
      "Fold 2\n",
      "RMSE: 1.1176\n",
      "MAE:  0.9347\n",
      "------------\n",
      "Fold 3\n",
      "RMSE: 1.1177\n",
      "MAE:  0.9338\n",
      "------------\n",
      "Fold 4\n",
      "RMSE: 1.1184\n",
      "MAE:  0.9346\n",
      "------------\n",
      "Fold 5\n",
      "RMSE: 1.1158\n",
      "MAE:  0.9329\n",
      "------------\n",
      "------------\n",
      "Mean RMSE: 1.1171\n",
      "Mean MAE : 0.9339\n",
      "------------\n",
      "------------\n",
      "user: 9          item: 1          r_ui = 4.00   est = 3.58   {'was_impossible': False}\n",
      "\n",
      "MeanOfMeans...\n",
      "Evaluating RMSE, MAE of algorithm MeanofMeans.\n",
      "\n",
      "------------\n",
      "Fold 1\n",
      "RMSE: 0.9960\n",
      "MAE:  0.8145\n",
      "------------\n",
      "Fold 2\n",
      "RMSE: 0.9971\n",
      "MAE:  0.8167\n",
      "------------\n",
      "Fold 3\n",
      "RMSE: 0.9971\n",
      "MAE:  0.8147\n",
      "------------\n",
      "Fold 4\n",
      "RMSE: 0.9985\n",
      "MAE:  0.8164\n",
      "------------\n",
      "Fold 5\n",
      "RMSE: 0.9966\n",
      "MAE:  0.8148\n",
      "------------\n",
      "------------\n",
      "Mean RMSE: 0.9970\n",
      "Mean MAE : 0.8154\n",
      "------------\n",
      "------------\n",
      "user: 9          item: 1          r_ui = 4.00   est = 3.83   {'was_impossible': False}\n"
     ]
    }
   ],
   "source": [
    "print(\"\\nGlobal Mean...\")\n",
    "algo = GlobalMean()\n",
    "evaluate(algo, data)\n",
    "pred = algo.predict(uid, iid, r_ui=4, verbose=True)\n",
    "\n",
    "print(\"\\nMeanOfMeans...\")\n",
    "algo = MeanofMeans()\n",
    "evaluate(algo, data)\n",
    "pred = algo.predict(uid, iid, r_ui=4, verbose=True)\n",
    "\n",
    "# print(\"\\nKNNBasic...\")\n",
    "# algo = KNNBasic()\n",
    "# evaluate(algo,data)"
   ]
  },
  {
   "cell_type": "code",
   "execution_count": 12,
   "metadata": {},
   "outputs": [
    {
     "data": {
      "text/plain": [
       "surprise.dataset.DatasetAutoFolds"
      ]
     },
     "execution_count": 12,
     "metadata": {},
     "output_type": "execute_result"
    }
   ],
   "source": [
    "type(data)"
   ]
  },
  {
   "cell_type": "code",
   "execution_count": 31,
   "metadata": {},
   "outputs": [
    {
     "name": "stdout",
     "output_type": "stream",
     "text": [
      "Evaluating RMSE, MAE of algorithm MeanofMeans.\n",
      "\n",
      "------------\n",
      "Fold 1\n",
      "RMSE: 1.0183\n",
      "MAE:  0.8391\n",
      "------------\n",
      "Fold 2\n",
      "RMSE: 1.0123\n",
      "MAE:  0.8322\n",
      "------------\n",
      "Fold 3\n",
      "RMSE: 1.0195\n",
      "MAE:  0.8390\n",
      "------------\n",
      "Fold 4\n",
      "RMSE: 1.0234\n",
      "MAE:  0.8437\n",
      "------------\n",
      "Fold 5\n",
      "RMSE: 1.0143\n",
      "MAE:  0.8344\n",
      "------------\n",
      "------------\n",
      "Mean RMSE: 1.0176\n",
      "Mean MAE : 0.8377\n",
      "------------\n",
      "------------\n"
     ]
    }
   ],
   "source": [
    "perf = evaluate(algo, data, measures=['RMSE', 'MAE'])"
   ]
  },
  {
   "cell_type": "code",
   "execution_count": 32,
   "metadata": {},
   "outputs": [
    {
     "name": "stdout",
     "output_type": "stream",
     "text": [
      "user: 200        item: 300        r_ui = 4.00   est = 3.75   {'was_impossible': False}\n"
     ]
    }
   ],
   "source": [
    "uid = str(200)\n",
    "iid = str(300)\n",
    "pred = algo.predict(uid, iid, r_ui=4, verbose=True)"
   ]
  },
  {
   "cell_type": "code",
   "execution_count": 33,
   "metadata": {},
   "outputs": [
    {
     "name": "stdout",
     "output_type": "stream",
     "text": [
      "user: 0          item: 1          r_ui = 4.00   est = 3.70   {'was_impossible': False}\n",
      "user: 1          item: 1          r_ui = 4.00   est = 3.66   {'was_impossible': False}\n",
      "user: 2          item: 1          r_ui = 4.00   est = 3.70   {'was_impossible': False}\n",
      "user: 3          item: 1          r_ui = 4.00   est = 3.43   {'was_impossible': False}\n",
      "user: 4          item: 1          r_ui = 4.00   est = 3.98   {'was_impossible': False}\n",
      "user: 5          item: 1          r_ui = 4.00   est = 3.43   {'was_impossible': False}\n",
      "user: 6          item: 1          r_ui = 4.00   est = 3.66   {'was_impossible': False}\n",
      "user: 7          item: 1          r_ui = 4.00   est = 3.79   {'was_impossible': False}\n",
      "user: 8          item: 1          r_ui = 4.00   est = 3.72   {'was_impossible': False}\n",
      "user: 9          item: 1          r_ui = 4.00   est = 3.92   {'was_impossible': False}\n"
     ]
    }
   ],
   "source": [
    "for x in range(10):\n",
    "    uid = str(x)\n",
    "    iid = str(1)\n",
    "    pred = algo.predict(uid, iid, r_ui=4, verbose=True)"
   ]
  },
  {
   "cell_type": "code",
   "execution_count": 47,
   "metadata": {},
   "outputs": [
    {
     "data": {
      "text/plain": [
       "surprise.prediction_algorithms.predictions.Prediction"
      ]
     },
     "execution_count": 47,
     "metadata": {},
     "output_type": "execute_result"
    }
   ],
   "source": [
    "type(pred)"
   ]
  },
  {
   "cell_type": "code",
   "execution_count": 100,
   "metadata": {},
   "outputs": [
    {
     "name": "stdout",
     "output_type": "stream",
     "text": [
      "RMSE: 0.9980\n",
      "RMSE: 0.9985\n",
      "RMSE: 0.9960\n",
      "RMSE: 0.9964\n",
      "RMSE: 0.9964\n"
     ]
    }
   ],
   "source": [
    "#data = Dataset.load_builtin('ml-100k')\n",
    "data.split(n_folds=5)\n",
    "\n",
    "algo = MeanofMeans()\n",
    "\n",
    "for trainset, testset in data.folds():\n",
    "\n",
    "    # train and test algorithm.\n",
    "    algo.train(trainset)\n",
    "    predictions = algo.test(testset)\n",
    "\n",
    "    # Compute and print Root Mean Squared Error\n",
    "    rmse = accuracy.rmse(predictions, verbose=True)"
   ]
  },
  {
   "cell_type": "code",
   "execution_count": 51,
   "metadata": {},
   "outputs": [
    {
     "data": {
      "text/plain": [
       "list"
      ]
     },
     "execution_count": 51,
     "metadata": {},
     "output_type": "execute_result"
    }
   ],
   "source": [
    "type(predictions)"
   ]
  },
  {
   "cell_type": "code",
   "execution_count": 52,
   "metadata": {},
   "outputs": [
    {
     "data": {
      "text/plain": [
       "[Prediction(uid='642', iid='1287', r_ui=2.0, est=2.7219404557182822, details={'was_impossible': False}),\n",
       " Prediction(uid='222', iid='225', r_ui=1.0, est=3.1903020190436124, details={'was_impossible': False}),\n",
       " Prediction(uid='109', iid='527', r_ui=3.0, est=3.6956132516413684, details={'was_impossible': False}),\n",
       " Prediction(uid='346', iid='38', r_ui=3.0, est=3.321943245507653, details={'was_impossible': False}),\n",
       " Prediction(uid='435', iid='756', r_ui=3.0, est=3.2625399297030104, details={'was_impossible': False}),\n",
       " Prediction(uid='894', iid='313', r_ui=4.0, est=3.7940573451239321, details={'was_impossible': False}),\n",
       " Prediction(uid='379', iid='133', r_ui=4.0, est=3.8011155406541639, details={'was_impossible': False}),\n",
       " Prediction(uid='588', iid='107', r_ui=5.0, est=3.5717457019356029, details={'was_impossible': False}),\n",
       " Prediction(uid='848', iid='25', r_ui=5.0, est=3.785934887726206, details={'was_impossible': False}),\n",
       " Prediction(uid='883', iid='69', r_ui=2.0, est=3.7861857223030513, details={'was_impossible': False})]"
      ]
     },
     "execution_count": 52,
     "metadata": {},
     "output_type": "execute_result"
    }
   ],
   "source": [
    "predictions[:10]"
   ]
  },
  {
   "cell_type": "code",
   "execution_count": 53,
   "metadata": {},
   "outputs": [
    {
     "data": {
      "text/plain": [
       "33333"
      ]
     },
     "execution_count": 53,
     "metadata": {},
     "output_type": "execute_result"
    }
   ],
   "source": [
    "len(predictions)"
   ]
  },
  {
   "cell_type": "code",
   "execution_count": 54,
   "metadata": {},
   "outputs": [
    {
     "data": {
      "text/plain": [
       "surprise.dataset.Trainset"
      ]
     },
     "execution_count": 54,
     "metadata": {},
     "output_type": "execute_result"
    }
   ],
   "source": [
    "type(trainset)"
   ]
  },
  {
   "cell_type": "code",
   "execution_count": 55,
   "metadata": {},
   "outputs": [
    {
     "data": {
      "text/plain": [
       "[Prediction(uid='642', iid='1287', r_ui=2.0, est=2.7219404557182822, details={'was_impossible': False})]"
      ]
     },
     "execution_count": 55,
     "metadata": {},
     "output_type": "execute_result"
    }
   ],
   "source": [
    "predictions[:1]"
   ]
  },
  {
   "cell_type": "code",
   "execution_count": 101,
   "metadata": {},
   "outputs": [
    {
     "name": "stdout",
     "output_type": "stream",
     "text": [
      "3017\n",
      "550\n",
      "3.0\n",
      "3.30825097883\n",
      "{'was_impossible': False}\n"
     ]
    }
   ],
   "source": [
    "for x in predictions[0]:\n",
    "    print(x)"
   ]
  },
  {
   "cell_type": "code",
   "execution_count": 104,
   "metadata": {},
   "outputs": [],
   "source": [
    "data = [np.array(x) for x in predictions]"
   ]
  },
  {
   "cell_type": "code",
   "execution_count": 106,
   "metadata": {},
   "outputs": [
    {
     "name": "stdout",
     "output_type": "stream",
     "text": [
      "['109' '527' 3.0 3.6956132516413684 {'was_impossible': False}] ['346' '38' 3.0 3.321943245507653 {'was_impossible': False}]\n"
     ]
    }
   ],
   "source": [
    "print (a[2],a[3])"
   ]
  },
  {
   "cell_type": "code",
   "execution_count": 63,
   "metadata": {},
   "outputs": [
    {
     "data": {
      "text/plain": [
       "array(['642', '1287', 2.0, 2.7219404557182822, {'was_impossible': False}], dtype=object)"
      ]
     },
     "execution_count": 63,
     "metadata": {},
     "output_type": "execute_result"
    }
   ],
   "source": [
    "a[0]"
   ]
  },
  {
   "cell_type": "code",
   "execution_count": 69,
   "metadata": {},
   "outputs": [],
   "source": [
    "names = np.array(range(5))"
   ]
  },
  {
   "cell_type": "code",
   "execution_count": null,
   "metadata": {},
   "outputs": [],
   "source": [
    "pd.DataFrame(data=data[1:,1:],    # values\n",
    "...              index=data[1:,0],    # 1st column as index\n",
    "...              columns=data[0,1:])"
   ]
  },
  {
   "cell_type": "code",
   "execution_count": 105,
   "metadata": {},
   "outputs": [],
   "source": [
    "data2 = np.array(data)"
   ]
  },
  {
   "cell_type": "code",
   "execution_count": 82,
   "metadata": {},
   "outputs": [
    {
     "data": {
      "text/plain": [
       "array([['642', '1287', 2.0, 2.7219404557182822, {'was_impossible': False}],\n",
       "       ['222', '225', 1.0, 3.1903020190436124, {'was_impossible': False}],\n",
       "       ['109', '527', 3.0, 3.6956132516413684, {'was_impossible': False}],\n",
       "       ['346', '38', 3.0, 3.321943245507653, {'was_impossible': False}],\n",
       "       ['435', '756', 3.0, 3.2625399297030104, {'was_impossible': False}],\n",
       "       ['894', '313', 4.0, 3.7940573451239321, {'was_impossible': False}],\n",
       "       ['379', '133', 4.0, 3.8011155406541639, {'was_impossible': False}],\n",
       "       ['588', '107', 5.0, 3.5717457019356029, {'was_impossible': False}],\n",
       "       ['848', '25', 5.0, 3.785934887726206, {'was_impossible': False}],\n",
       "       ['883', '69', 2.0, 3.7861857223030513, {'was_impossible': False}],\n",
       "       ['860', '900', 3.0, 3.4983953400794938, {'was_impossible': False}],\n",
       "       ['433', '276', 5.0, 3.5786366883106164, {'was_impossible': False}],\n",
       "       ['396', '291', 4.0, 3.4856631165377814, {'was_impossible': False}],\n",
       "       ['815', '175', 3.0, 3.7540674275990722, {'was_impossible': False}],\n",
       "       ['940', '168', 3.0, 3.7367691161544196, {'was_impossible': False}],\n",
       "       ['402', '235', 3.0, 3.4155622196026951, {'was_impossible': False}],\n",
       "       ['399', '117', 2.0, 3.3800422286781173, {'was_impossible': False}],\n",
       "       ['804', '33', 4.0, 3.555935782821086, {'was_impossible': False}],\n",
       "       ['7', '554', 3.0, 3.4523439848851818, {'was_impossible': False}],\n",
       "       ['782', '361', 3.0, 3.0457418624856563, {'was_impossible': False}],\n",
       "       ['198', '369', 1.0, 3.1621857828210858, {'was_impossible': False}],\n",
       "       ['373', '90', 4.0, 3.4573074184318524, {'was_impossible': False}],\n",
       "       ['280', '393', 4.0, 3.4554866396480626, {'was_impossible': False}],\n",
       "       ['234', '1461', 2.0, 3.3449582344922151, {'was_impossible': False}],\n",
       "       ['716', '723', 4.0, 3.4878007811186684, {'was_impossible': False}],\n",
       "       ['299', '23', 4.0, 3.7013127985928382, {'was_impossible': False}],\n",
       "       ['201', '213', 4.0, 3.4626351031991258, {'was_impossible': False}],\n",
       "       ['608', '111', 1.0, 3.5502205397579836, {'was_impossible': False}],\n",
       "       ['435', '401', 3.0, 3.2913465140651503, {'was_impossible': False}],\n",
       "       ['157', '407', 4.0, 3.2703195631531421, {'was_impossible': False}],\n",
       "       ['21', '5', 2.0, 3.1824671218524254, {'was_impossible': False}],\n",
       "       ['474', '659', 5.0, 3.8903111108224295, {'was_impossible': False}],\n",
       "       ['904', '9', 4.0, 3.7178946572799609, {'was_impossible': False}],\n",
       "       ['405', '1225', 1.0, 2.6948158252839307, {'was_impossible': False}],\n",
       "       ['244', '509', 5.0, 3.6765272196861076, {'was_impossible': False}],\n",
       "       ['484', '14', 4.0, 3.8291907685760713, {'was_impossible': False}],\n",
       "       ['933', '665', 1.0, 3.0426421320274351, {'was_impossible': False}],\n",
       "       ['912', '501', 4.0, 3.7090430752576466, {'was_impossible': False}],\n",
       "       ['885', '418', 4.0, 3.4292419666766576, {'was_impossible': False}],\n",
       "       ['92', '238', 5.0, 3.529819225086881, {'was_impossible': False}],\n",
       "       ['239', '463', 5.0, 3.8449323017878374, {'was_impossible': False}],\n",
       "       ['244', '145', 3.0, 3.208671404004205, {'was_impossible': False}],\n",
       "       ['59', '199', 4.0, 3.8877978846171852, {'was_impossible': False}],\n",
       "       ['440', '312', 5.0, 3.6602158281725594, {'was_impossible': False}],\n",
       "       ['932', '530', 4.0, 3.7929620944204814, {'was_impossible': False}],\n",
       "       ['796', '576', 3.0, 3.3979331373184407, {'was_impossible': False}],\n",
       "       ['585', '970', 3.0, 3.7472819366672403, {'was_impossible': False}],\n",
       "       ['253', '328', 4.0, 3.658031010459792, {'was_impossible': False}],\n",
       "       ['727', '410', 2.0, 3.2019569917209991, {'was_impossible': False}],\n",
       "       ['90', '1109', 3.0, 3.7619543013396046, {'was_impossible': False}],\n",
       "       ['774', '122', 1.0, 2.5961239548640966, {'was_impossible': False}],\n",
       "       ['473', '20', 3.0, 3.6919206313059347, {'was_impossible': False}],\n",
       "       ['10', '124', 5.0, 3.9450117493317975, {'was_impossible': False}],\n",
       "       ['125', '83', 4.0, 3.656171415004994, {'was_impossible': False}],\n",
       "       ['733', '16', 3.0, 3.2296791690644722, {'was_impossible': False}],\n",
       "       ['343', '306', 4.0, 3.8222717616570647, {'was_impossible': False}],\n",
       "       ['49', '1021', 5.0, 3.3660090285723108, {'was_impossible': False}],\n",
       "       ['416', '571', 3.0, 3.2611676740043047, {'was_impossible': False}],\n",
       "       ['21', '260', 2.0, 2.8985165045684744, {'was_impossible': False}],\n",
       "       ['524', '479', 4.0, 3.7460661983825361, {'was_impossible': False}],\n",
       "       ['626', '313', 5.0, 3.3566292337827774, {'was_impossible': False}],\n",
       "       ['38', '444', 1.0, 3.2422012149198518, {'was_impossible': False}],\n",
       "       ['915', '896', 2.0, 3.5413524494877522, {'was_impossible': False}],\n",
       "       ['916', '54', 3.0, 3.3599852056205091, {'was_impossible': False}],\n",
       "       ['500', '289', 4.0, 3.2652248882683623, {'was_impossible': False}],\n",
       "       ['823', '471', 3.0, 3.722899375430929, {'was_impossible': False}],\n",
       "       ['500', '300', 4.0, 3.4866582892149478, {'was_impossible': False}],\n",
       "       ['314', '1210', 4.0, 3.2786050312433463, {'was_impossible': False}],\n",
       "       ['22', '89', 5.0, 3.7034413686331233, {'was_impossible': False}],\n",
       "       ['452', '481', 5.0, 3.6144441861824306, {'was_impossible': False}],\n",
       "       ['301', '554', 3.0, 3.3108079168598867, {'was_impossible': False}],\n",
       "       ['748', '654', 4.0, 3.7422661921778109, {'was_impossible': False}],\n",
       "       ['843', '172', 3.0, 3.4644302346490292, {'was_impossible': False}],\n",
       "       ['271', '1091', 4.0, 3.2345112976952279, {'was_impossible': False}],\n",
       "       ['838', '487', 4.0, 3.9083447595944691, {'was_impossible': False}],\n",
       "       ['294', '299', 3.0, 3.3081793725646755, {'was_impossible': False}],\n",
       "       ['537', '206', 1.0, 3.3287349281202316, {'was_impossible': False}],\n",
       "       ['298', '866', 3.0, 3.626568312941568, {'was_impossible': False}],\n",
       "       ['10', '99', 5.0, 3.8333843569211328, {'was_impossible': False}],\n",
       "       ['892', '226', 3.0, 3.6652436046289076, {'was_impossible': False}],\n",
       "       ['88', '886', 5.0, 3.3989913383766415, {'was_impossible': False}],\n",
       "       ['887', '142', 1.0, 3.5183126301117262, {'was_impossible': False}],\n",
       "       ['859', '421', 5.0, 3.6560283754136784, {'was_impossible': False}],\n",
       "       ['244', '1098', 5.0, 3.6584835349757565, {'was_impossible': False}],\n",
       "       ['251', '295', 4.0, 3.5032939388494548, {'was_impossible': False}],\n",
       "       ['75', '137', 4.0, 3.6615974660990482, {'was_impossible': False}],\n",
       "       ['703', '458', 3.0, 3.3339375749357814, {'was_impossible': False}],\n",
       "       ['416', '182', 4.0, 3.7800641214721806, {'was_impossible': False}],\n",
       "       ['749', '356', 4.0, 3.4767850321181313, {'was_impossible': False}],\n",
       "       ['807', '121', 4.0, 3.5989969986472023, {'was_impossible': False}],\n",
       "       ['256', '79', 5.0, 3.8150095379769304, {'was_impossible': False}],\n",
       "       ['549', '405', 4.0, 3.5135137555306373, {'was_impossible': False}],\n",
       "       ['293', '14', 3.0, 3.4997035890888921, {'was_impossible': False}],\n",
       "       ['496', '277', 5.0, 3.3275884665616413, {'was_impossible': False}],\n",
       "       ['548', '1025', 4.0, 3.2807117684841685, {'was_impossible': False}],\n",
       "       ['343', '241', 3.0, 3.6970943194064518, {'was_impossible': False}],\n",
       "       ['328', '448', 3.0, 3.5232021711186676, {'was_impossible': False}],\n",
       "       ['927', '230', 5.0, 3.6234488384260946, {'was_impossible': False}],\n",
       "       ['660', '3', 1.0, 3.0298460392313422, {'was_impossible': False}],\n",
       "       ['92', '160', 4.0, 3.3763357040188797, {'was_impossible': False}]], dtype=object)"
      ]
     },
     "execution_count": 82,
     "metadata": {},
     "output_type": "execute_result"
    }
   ],
   "source": [
    "data2"
   ]
  },
  {
   "cell_type": "code",
   "execution_count": 107,
   "metadata": {},
   "outputs": [],
   "source": [
    "df = pd.DataFrame(data2,columns=['userid','itemid','rating','prediction','was_impossible'])"
   ]
  },
  {
   "cell_type": "code",
   "execution_count": 108,
   "metadata": {},
   "outputs": [],
   "source": [
    "df= df[['userid','itemid','rating','prediction']]"
   ]
  },
  {
   "cell_type": "code",
   "execution_count": 109,
   "metadata": {},
   "outputs": [
    {
     "data": {
      "text/html": [
       "<div>\n",
       "<style scoped>\n",
       "    .dataframe tbody tr th:only-of-type {\n",
       "        vertical-align: middle;\n",
       "    }\n",
       "\n",
       "    .dataframe tbody tr th {\n",
       "        vertical-align: top;\n",
       "    }\n",
       "\n",
       "    .dataframe thead th {\n",
       "        text-align: right;\n",
       "    }\n",
       "</style>\n",
       "<table border=\"1\" class=\"dataframe\">\n",
       "  <thead>\n",
       "    <tr style=\"text-align: right;\">\n",
       "      <th></th>\n",
       "      <th>userid</th>\n",
       "      <th>itemid</th>\n",
       "      <th>rating</th>\n",
       "      <th>prediction</th>\n",
       "    </tr>\n",
       "  </thead>\n",
       "  <tbody>\n",
       "    <tr>\n",
       "      <th>0</th>\n",
       "      <td>3017</td>\n",
       "      <td>550</td>\n",
       "      <td>3</td>\n",
       "      <td>3.30825</td>\n",
       "    </tr>\n",
       "    <tr>\n",
       "      <th>1</th>\n",
       "      <td>3727</td>\n",
       "      <td>2405</td>\n",
       "      <td>2</td>\n",
       "      <td>3.31767</td>\n",
       "    </tr>\n",
       "    <tr>\n",
       "      <th>2</th>\n",
       "      <td>5493</td>\n",
       "      <td>380</td>\n",
       "      <td>3</td>\n",
       "      <td>3.50634</td>\n",
       "    </tr>\n",
       "    <tr>\n",
       "      <th>3</th>\n",
       "      <td>1051</td>\n",
       "      <td>673</td>\n",
       "      <td>4</td>\n",
       "      <td>3.22945</td>\n",
       "    </tr>\n",
       "    <tr>\n",
       "      <th>4</th>\n",
       "      <td>4524</td>\n",
       "      <td>1840</td>\n",
       "      <td>1</td>\n",
       "      <td>3.41057</td>\n",
       "    </tr>\n",
       "  </tbody>\n",
       "</table>\n",
       "</div>"
      ],
      "text/plain": [
       "  userid itemid rating prediction\n",
       "0   3017    550      3    3.30825\n",
       "1   3727   2405      2    3.31767\n",
       "2   5493    380      3    3.50634\n",
       "3   1051    673      4    3.22945\n",
       "4   4524   1840      1    3.41057"
      ]
     },
     "execution_count": 109,
     "metadata": {},
     "output_type": "execute_result"
    }
   ],
   "source": [
    "df.head(5)"
   ]
  },
  {
   "cell_type": "code",
   "execution_count": 111,
   "metadata": {},
   "outputs": [],
   "source": [
    "df.to_csv('preds1m.csv')"
   ]
  },
  {
   "cell_type": "code",
   "execution_count": 110,
   "metadata": {},
   "outputs": [
    {
     "data": {
      "text/plain": [
       "200041"
      ]
     },
     "execution_count": 110,
     "metadata": {},
     "output_type": "execute_result"
    }
   ],
   "source": [
    "len(df)"
   ]
  },
  {
   "cell_type": "code",
   "execution_count": null,
   "metadata": {},
   "outputs": [],
   "source": []
  }
 ],
 "metadata": {
  "kernelspec": {
   "display_name": "Python 3",
   "language": "python",
   "name": "python3"
  },
  "language_info": {
   "codemirror_mode": {
    "name": "ipython",
    "version": 3
   },
   "file_extension": ".py",
   "mimetype": "text/x-python",
   "name": "python",
   "nbconvert_exporter": "python",
   "pygments_lexer": "ipython3",
   "version": "3.6.4"
  }
 },
 "nbformat": 4,
 "nbformat_minor": 2
}
